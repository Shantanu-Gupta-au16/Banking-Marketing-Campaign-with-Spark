{
  "nbformat": 4,
  "nbformat_minor": 0,
  "metadata": {
    "colab": {
      "name": "Banking Marketing Campaign with pySpark.ipynb",
      "version": "0.3.2",
      "provenance": [],
      "collapsed_sections": [],
      "include_colab_link": true
    },
    "language_info": {
      "mimetype": "text/x-python",
      "nbconvert_exporter": "python",
      "version": "3.5.5",
      "name": "python",
      "file_extension": ".py",
      "pygments_lexer": "ipython3",
      "codemirror_mode": {
        "version": 3,
        "name": "ipython"
      }
    },
    "kernelspec": {
      "display_name": "Python 3.5",
      "name": "python3",
      "language": "python"
    }
  },
  "cells": [
    {
      "cell_type": "markdown",
      "metadata": {
        "id": "view-in-github",
        "colab_type": "text"
      },
      "source": [
        "<a href=\"https://colab.research.google.com/github/Shantanu9326/Banking-Marketing-Campaign-with-Spark/blob/master/Banking_Marketing_Campaign_with_pySpark.ipynb\" target=\"_parent\"><img src=\"https://colab.research.google.com/assets/colab-badge.svg\" alt=\"Open In Colab\"/></a>"
      ]
    },
    {
      "cell_type": "markdown",
      "metadata": {
        "id": "_th7e2nu0At7",
        "colab_type": "text"
      },
      "source": [
        "# SIT742: Modern Data Science \n",
        "**(Assessment Task 02: Bank Marketing Data Analytics)**\n",
        "\n",
        "---\n",
        "- Materials in this module include resources collected from various open-source online repositories.\n",
        "- You are free to use, change and distribute this package.\n",
        "\n",
        "Prepared by **SIT742 Teaching Team**\n",
        "\n",
        "\n",
        "---\n",
        "\n",
        "**Project Group Information:**\n",
        "\n",
        "- Names:\n",
        "KISAN KUMAR BEHERA,\n",
        "DISHA NAYAK,\n",
        "SHANTANU GUPTA\n",
        "\n",
        "- Student IDs: \n",
        "218465331, \n",
        "218017796,\n",
        "218200234\n",
        "\n",
        "- Emails:\n",
        "kbehera@deakin.edu.au ,\n",
        "knayak@deakin.edu.au,\n",
        "guptasha@deakin.edu.au\n",
        "\n",
        "\n",
        "---"
      ]
    },
    {
      "cell_type": "markdown",
      "metadata": {
        "colab_type": "text",
        "id": "eASNvREtBU9G"
      },
      "source": [
        "# Import Spark"
      ]
    },
    {
      "cell_type": "code",
      "metadata": {
        "colab_type": "code",
        "id": "duCJfMrnGu00",
        "cellView": "code",
        "outputId": "2ef05dfc-8791-4ea4-de17-537ab9f0c330",
        "colab": {
          "base_uri": "https://localhost:8080/",
          "height": 187
        }
      },
      "source": [
        "#INSTALLING SPARK AND PIP PACKAGES\n",
        "!pip install wget\n",
        "!apt-get install openjdk-8-jdk-headless -qq > /dev/null\n",
        "!wget -q https://archive.apache.org/dist/spark/spark-2.4.0/spark-2.4.0-bin-hadoop2.7.tgz\n",
        "!tar xf spark-2.4.0-bin-hadoop2.7.tgz\n",
        "!pip install -q findspark\n",
        "import os\n",
        "os.environ[\"JAVA_HOME\"] = \"/usr/lib/jvm/java-8-openjdk-amd64\"\n",
        "os.environ[\"SPARK_HOME\"] = \"/content/spark-2.4.0-bin-hadoop2.7\""
      ],
      "execution_count": 0,
      "outputs": [
        {
          "output_type": "stream",
          "text": [
            "Collecting wget\n",
            "  Downloading https://files.pythonhosted.org/packages/47/6a/62e288da7bcda82b935ff0c6cfe542970f04e29c756b0e147251b2fb251f/wget-3.2.zip\n",
            "Building wheels for collected packages: wget\n",
            "  Building wheel for wget (setup.py) ... \u001b[?25l\u001b[?25hdone\n",
            "  Stored in directory: /root/.cache/pip/wheels/40/15/30/7d8f7cea2902b4db79e3fea550d7d7b85ecb27ef992b618f3f\n",
            "Successfully built wget\n",
            "Installing collected packages: wget\n",
            "Successfully installed wget-3.2\n"
          ],
          "name": "stdout"
        }
      ]
    },
    {
      "cell_type": "code",
      "metadata": {
        "colab_type": "code",
        "id": "aGOo805LA-fM",
        "colab": {}
      },
      "source": [
        "#IMPORTING SPARK SESSION\n",
        "import findspark\n",
        "findspark.init()\n",
        "from pyspark.sql import SparkSession \n",
        "from pyspark.sql import SQLContext "
      ],
      "execution_count": 0,
      "outputs": []
    },
    {
      "cell_type": "markdown",
      "metadata": {
        "colab_type": "text",
        "id": "K7bEtO_fBZmE"
      },
      "source": [
        "# Read & Check data"
      ]
    },
    {
      "cell_type": "code",
      "metadata": {
        "id": "EADPspOv0Auh",
        "colab_type": "code",
        "colab": {}
      },
      "source": [
        "import wget\n",
        "link_to_data = 'https://github.com/tulip-lab/sit742/raw/master/Assessment/2019/data/bank.csv'\n",
        "DataSet = wget.download(link_to_data)"
      ],
      "execution_count": 0,
      "outputs": []
    },
    {
      "cell_type": "code",
      "metadata": {
        "id": "tiM-PiiR0Aup",
        "colab_type": "code",
        "outputId": "d992e266-46bc-4c11-883c-90d2a8f0cd08",
        "colab": {
          "base_uri": "https://localhost:8080/",
          "height": 65
        }
      },
      "source": [
        "!ls"
      ],
      "execution_count": 0,
      "outputs": [
        {
          "output_type": "stream",
          "text": [
            "bank.csv  sample_data  spark-2.4.0-bin-hadoop2.7  spark-2.4.0-bin-hadoop2.7.tgz\n"
          ],
          "name": "stdout"
        }
      ]
    },
    {
      "cell_type": "code",
      "metadata": {
        "colab_type": "code",
        "id": "FQ8Ts9eZBA-M",
        "outputId": "a43c368c-b648-4283-b53d-dee1c3fea23b",
        "colab": {
          "base_uri": "https://localhost:8080/",
          "height": 265
        }
      },
      "source": [
        "spark = SparkSession.builder.appName('ml-bank').getOrCreate()\n",
        "\n",
        "#IMPORTING BANK DATASET AS A SPARK DATA FRAME\n",
        "df = spark.read.csv('bank.csv', header = True, inferSchema = True) \n",
        "\n",
        "#SUMMARISING EACH COLUMN VALUES\n",
        "df.summary().show()"
      ],
      "execution_count": 0,
      "outputs": [
        {
          "output_type": "stream",
          "text": [
            "+-------+------------------+-------+--------+---------+-------+------------------+-------+-----+--------+------------------+-----+------------------+------------------+------------------+------------------+--------+-------+\n",
            "|summary|               age|    job| marital|education|default|           balance|housing| loan| contact|               day|month|          duration|          campaign|             pdays|          previous|poutcome|deposit|\n",
            "+-------+------------------+-------+--------+---------+-------+------------------+-------+-----+--------+------------------+-----+------------------+------------------+------------------+------------------+--------+-------+\n",
            "|  count|             11162|  11162|   11162|    11162|  11162|             11162|  11162|11162|   11162|             11162|11162|             11162|             11162|             11162|             11162|   11162|  11162|\n",
            "|   mean|41.231947679627304|   null|    null|     null|   null|1528.5385235620856|   null| null|    null|15.658036194230425| null|371.99381831213043| 2.508421429851281| 51.33040673714388|0.8325568894463358|    null|   null|\n",
            "| stddev|11.913369192215518|   null|    null|     null|   null| 3225.413325946149|   null| null|    null| 8.420739541006462| null|347.12838571630687|2.7220771816614824|108.75828197197717| 2.292007218670508|    null|   null|\n",
            "|    min|                18| admin.|divorced|  primary|     no|             -6847|     no|   no|cellular|                 1|  apr|                 2|                 1|                -1|                 0| failure|     no|\n",
            "|    25%|                32|   null|    null|     null|   null|               122|   null| null|    null|                 8| null|               138|                 1|                -1|                 0|    null|   null|\n",
            "|    50%|                39|   null|    null|     null|   null|               550|   null| null|    null|                15| null|               255|                 2|                -1|                 0|    null|   null|\n",
            "|    75%|                49|   null|    null|     null|   null|              1708|   null| null|    null|                22| null|               496|                 3|                20|                 1|    null|   null|\n",
            "|    max|                95|unknown|  single|  unknown|    yes|             81204|    yes|  yes| unknown|                31|  sep|              3881|                63|               854|                58| unknown|    yes|\n",
            "+-------+------------------+-------+--------+---------+-------+------------------+-------+-----+--------+------------------+-----+------------------+------------------+------------------+------------------+--------+-------+\n",
            "\n"
          ],
          "name": "stdout"
        }
      ]
    },
    {
      "cell_type": "code",
      "metadata": {
        "colab_type": "code",
        "id": "XJGWVc0yB0UA",
        "outputId": "9375b451-2500-48af-ae8d-cfc24f774c13",
        "colab": {
          "base_uri": "https://localhost:8080/",
          "height": 544
        }
      },
      "source": [
        "# CHECKING DATA DISTRIBUTION\n",
        "df.printSchema() \n",
        "df.show(5) "
      ],
      "execution_count": 0,
      "outputs": [
        {
          "output_type": "stream",
          "text": [
            "root\n",
            " |-- age: integer (nullable = true)\n",
            " |-- job: string (nullable = true)\n",
            " |-- marital: string (nullable = true)\n",
            " |-- education: string (nullable = true)\n",
            " |-- default: string (nullable = true)\n",
            " |-- balance: integer (nullable = true)\n",
            " |-- housing: string (nullable = true)\n",
            " |-- loan: string (nullable = true)\n",
            " |-- contact: string (nullable = true)\n",
            " |-- day: integer (nullable = true)\n",
            " |-- month: string (nullable = true)\n",
            " |-- duration: integer (nullable = true)\n",
            " |-- campaign: integer (nullable = true)\n",
            " |-- pdays: integer (nullable = true)\n",
            " |-- previous: integer (nullable = true)\n",
            " |-- poutcome: string (nullable = true)\n",
            " |-- deposit: string (nullable = true)\n",
            "\n",
            "+---+----------+-------+---------+-------+-------+-------+----+-------+---+-----+--------+--------+-----+--------+--------+-------+\n",
            "|age|       job|marital|education|default|balance|housing|loan|contact|day|month|duration|campaign|pdays|previous|poutcome|deposit|\n",
            "+---+----------+-------+---------+-------+-------+-------+----+-------+---+-----+--------+--------+-----+--------+--------+-------+\n",
            "| 59|    admin.|married|secondary|     no|   2343|    yes|  no|unknown|  5|  may|    1042|       1|   -1|       0| unknown|    yes|\n",
            "| 56|    admin.|married|secondary|     no|     45|     no|  no|unknown|  5|  may|    1467|       1|   -1|       0| unknown|    yes|\n",
            "| 41|technician|married|secondary|     no|   1270|    yes|  no|unknown|  5|  may|    1389|       1|   -1|       0| unknown|    yes|\n",
            "| 55|  services|married|secondary|     no|   2476|    yes|  no|unknown|  5|  may|     579|       1|   -1|       0| unknown|    yes|\n",
            "| 54|    admin.|married| tertiary|     no|    184|     no|  no|unknown|  5|  may|     673|       2|   -1|       0| unknown|    yes|\n",
            "+---+----------+-------+---------+-------+-------+-------+----+-------+---+-----+--------+--------+-----+--------+--------+-------+\n",
            "only showing top 5 rows\n",
            "\n"
          ],
          "name": "stdout"
        }
      ]
    },
    {
      "cell_type": "markdown",
      "metadata": {
        "colab_type": "text",
        "id": "wKQMhrtFChHa"
      },
      "source": [
        "# Select features"
      ]
    },
    {
      "cell_type": "code",
      "metadata": {
        "colab_type": "code",
        "id": "VU5xMqN_RyM2",
        "outputId": "9f00e88a-a080-4e8a-c34d-bc0b603500a0",
        "colab": {
          "base_uri": "https://localhost:8080/",
          "height": 210
        }
      },
      "source": [
        "#Select features ('age', 'job', 'marital', 'education', 'default', 'balance', 'housing', 'loan', 'campaign', 'pdays', 'previous', 'poutcome', 'deposit') as df2\n",
        "df2=df.select('age', 'job', 'marital', 'education', 'default', 'balance', 'housing', 'loan', 'campaign', 'pdays', 'previous', 'poutcome', 'deposit')\n",
        "df2.show(5)\n",
        "cols=df2.columns"
      ],
      "execution_count": 0,
      "outputs": [
        {
          "output_type": "stream",
          "text": [
            "+---+----------+-------+---------+-------+-------+-------+----+--------+-----+--------+--------+-------+\n",
            "|age|       job|marital|education|default|balance|housing|loan|campaign|pdays|previous|poutcome|deposit|\n",
            "+---+----------+-------+---------+-------+-------+-------+----+--------+-----+--------+--------+-------+\n",
            "| 59|    admin.|married|secondary|     no|   2343|    yes|  no|       1|   -1|       0| unknown|    yes|\n",
            "| 56|    admin.|married|secondary|     no|     45|     no|  no|       1|   -1|       0| unknown|    yes|\n",
            "| 41|technician|married|secondary|     no|   1270|    yes|  no|       1|   -1|       0| unknown|    yes|\n",
            "| 55|  services|married|secondary|     no|   2476|    yes|  no|       1|   -1|       0| unknown|    yes|\n",
            "| 54|    admin.|married| tertiary|     no|    184|     no|  no|       2|   -1|       0| unknown|    yes|\n",
            "+---+----------+-------+---------+-------+-------+-------+----+--------+-----+--------+--------+-------+\n",
            "only showing top 5 rows\n",
            "\n"
          ],
          "name": "stdout"
        }
      ]
    },
    {
      "cell_type": "code",
      "metadata": {
        "colab_type": "code",
        "id": "vwF5sqRYa_eI",
        "colab": {}
      },
      "source": [
        "from pyspark.sql import SparkSession\n",
        "spark = SparkSession.builder.appName('SQL').getOrCreate()\n",
        "\n",
        "#REGISTERING DF2 AS SQL TABLE NAMED \"BANK\"\n",
        "df2.registerTempTable(\"bank\") \n",
        "\n",
        "#FILTERING UNKNOWN VALUES USING FROM ALL THE COLUMNS USING \"AND\" \"OR\" LOGIC USING SPARKSQL\n",
        "sqlfilter=spark.sql(\"SELECT * FROM bank WHERE job!='unknown' AND education!='unknown' AND marital!='unknown' AND loan!='unknown' AND (poutcome == 'failure' OR poutcome == 'success')\")"
      ],
      "execution_count": 0,
      "outputs": []
    },
    {
      "cell_type": "code",
      "metadata": {
        "id": "2dmtksGiby3J",
        "colab_type": "code",
        "colab": {}
      },
      "source": [
        "#STORING IN NEW VARIABLE TO AVOID 'NONETYPE ERROR'\n",
        "df2=sqlfilter"
      ],
      "execution_count": 0,
      "outputs": []
    },
    {
      "cell_type": "code",
      "metadata": {
        "id": "r8dwO4zDb-J3",
        "colab_type": "code",
        "outputId": "b9a5093e-7c19-404f-de69-cf5e9306c9a5",
        "colab": {
          "base_uri": "https://localhost:8080/",
          "height": 701
        }
      },
      "source": [
        "#DISPLAYING AND SUMMARIZING NEW DATA FRAME\n",
        "df2.show()\n",
        "df2.summary().show()"
      ],
      "execution_count": 0,
      "outputs": [
        {
          "output_type": "stream",
          "text": [
            "+---+------------+--------+---------+-------+-------+-------+----+--------+-----+--------+--------+-------+\n",
            "|age|         job| marital|education|default|balance|housing|loan|campaign|pdays|previous|poutcome|deposit|\n",
            "+---+------------+--------+---------+-------+-------+-------+----+--------+-----+--------+--------+-------+\n",
            "| 33|    services| married|secondary|     no|   3444|    yes|  no|       1|   91|       4| failure|    yes|\n",
            "| 56|  technician| married|secondary|     no|    589|    yes|  no|       1|  147|       2| success|    yes|\n",
            "| 34|      admin.| married| tertiary|     no|    899|    yes|  no|       1|  170|       3| failure|    yes|\n",
            "| 53|     retired| married| tertiary|     no|   2269|     no|  no|       2|  150|       1| success|    yes|\n",
            "| 37|  technician| married|secondary|     no|   5115|    yes|  no|       2|  171|       4| failure|    yes|\n",
            "| 45|entrepreneur| married|secondary|     no|    781|     no| yes|       2|  126|       2| failure|    yes|\n",
            "| 46|  unemployed|divorced|secondary|     no|   3354|    yes|  no|       1|  174|       1| success|    yes|\n",
            "| 40|  management| married| tertiary|     no|   3352|    yes|  no|       2|   27|       1| success|    yes|\n",
            "| 32|  technician| married| tertiary|     no|   4654|    yes| yes|       1|  128|       2| failure|    yes|\n",
            "| 30| blue-collar| married|secondary|     no|    501|    yes| yes|       1|  177|       1| failure|    yes|\n",
            "| 46|  technician| married| tertiary|     no|      0|     no|  no|       1|  167|       1| failure|    yes|\n",
            "| 38|entrepreneur| married| tertiary|     no|   1110|    yes|  no|       2|  183|       2| failure|    yes|\n",
            "| 32|    services| married|secondary|     no|    983|    yes|  no|       2|  133|       1| failure|    yes|\n",
            "| 31|  unemployed| married|secondary|     no|    314|    yes|  no|       3|  178|       7| failure|    yes|\n",
            "| 50| blue-collar| married|  primary|     no|  12519|    yes|  no|       3|   34|       1| failure|    yes|\n",
            "| 47|  technician| married|secondary|     no|      0|     no|  no|       1|   10|       1| failure|    yes|\n",
            "| 59|  management| married| tertiary|     no|   7049|     no|  no|       1|  163|       2| failure|    yes|\n",
            "| 31|  management| married|secondary|     no|   8629|    yes|  no|       1|  184|       2| failure|    yes|\n",
            "| 53| blue-collar| married|secondary|     no|   1777|    yes|  no|       5|  154|       1| failure|    yes|\n",
            "| 40|  technician|  single| tertiary|     no|   1646|    yes|  no|       1|  242|       2| failure|    yes|\n",
            "+---+------------+--------+---------+-------+-------+-------+----+--------+-----+--------+--------+-------+\n",
            "only showing top 20 rows\n",
            "\n",
            "+-------+------------------+----------+--------+---------+-------+------------------+-------+----+------------------+-----------------+------------------+--------+-------+\n",
            "|summary|               age|       job| marital|education|default|           balance|housing|loan|          campaign|            pdays|          previous|poutcome|deposit|\n",
            "+-------+------------------+----------+--------+---------+-------+------------------+-------+----+------------------+-----------------+------------------+--------+-------+\n",
            "|  count|              2181|      2181|    2181|     2181|   2181|              2181|   2181|2181|              2181|             2181|              2181|    2181|   2181|\n",
            "|   mean| 41.84364970197157|      null|    null|     null|   null| 1742.946813388354|   null|null|1.8211829436038514|202.8578633654287|3.0917010545621273|    null|   null|\n",
            "| stddev|12.855329179952637|      null|    null|     null|   null|3397.7939950723485|   null|null|1.2274126864078023|121.3097255486155| 2.958246116660583|    null|   null|\n",
            "|    min|                18|    admin.|divorced|  primary|     no|              -938|     no|  no|                 1|                1|                 1| failure|     no|\n",
            "|    25%|                32|      null|    null|     null|   null|               224|   null|null|                 1|               97|                 1|    null|   null|\n",
            "|    50%|                38|      null|    null|     null|   null|               719|   null|null|                 1|              182|                 2|    null|   null|\n",
            "|    75%|                50|      null|    null|     null|   null|              2044|   null|null|                 2|              278|                 4|    null|   null|\n",
            "|    max|                88|unemployed|  single| tertiary|    yes|             81204|    yes| yes|                12|              854|                55| success|    yes|\n",
            "+-------+------------------+----------+--------+---------+-------+------------------+-------+----+------------------+-----------------+------------------+--------+-------+\n",
            "\n"
          ],
          "name": "stdout"
        }
      ]
    },
    {
      "cell_type": "code",
      "metadata": {
        "id": "IwPuQjQf5s45",
        "colab_type": "code",
        "colab": {}
      },
      "source": [
        "from pyspark.ml.feature import OneHotEncoderEstimator, StringIndexer, VectorAssembler"
      ],
      "execution_count": 0,
      "outputs": []
    },
    {
      "cell_type": "code",
      "metadata": {
        "id": "kx31dPjE5s-H",
        "colab_type": "code",
        "colab": {}
      },
      "source": [
        "#SELECTING CATEGORICAL COLUMNS ONLY\n",
        "categoricalColumns = ['job', 'marital', 'education', 'default', 'housing', 'loan', 'poutcome']\n",
        "\n",
        "#CREATING AN EMPTY LIST FOR PIPELINE AND ASSEMBLER\n",
        "stages = []"
      ],
      "execution_count": 0,
      "outputs": []
    },
    {
      "cell_type": "code",
      "metadata": {
        "colab_type": "code",
        "id": "3SVWkuEs0n16",
        "colab": {}
      },
      "source": [
        "#APPLYING FOR LOOP TO INDEX AND ENCODE ALL THE SELECTED COLUMNS\n",
        "#APPLYING STRING INDEXER TO ALL THE CATEGORICAL COLUMNS AND STORING IT IN A NEW COLUMN WITH +INDEXED\n",
        "#APPLYING ONE HOT ENCODER TO ALL THE INDEXED COLUMNS AND STORING IT IN A NEW COLUMN WITH +ENCODED\n",
        "\n",
        "for categoricalCol in categoricalColumns:\n",
        "    stringIndexer = StringIndexer(inputCol = categoricalCol, outputCol = categoricalCol + '_indexed')\n",
        "    encoder = OneHotEncoderEstimator(inputCols=[stringIndexer.getOutputCol()], outputCols=[categoricalCol + \"_encoded\"])\n",
        "    stages += [stringIndexer, encoder]\n",
        "    \n",
        "#INDEXING PREDICTOR COLUMN 'DEPOSIT' AS LABEL AND FEATURES    \n",
        "label_stringIdx = StringIndexer(inputCol = 'deposit', outputCol = 'label')\n",
        "\n",
        "#CREATING STAGES FOR BOTH NUMERICAL AND CATEGORICAL COLUMNS\n",
        "stages += [label_stringIdx]\n",
        "numericCols = ['age', 'balance', 'campaign', 'pdays', 'previous']\n",
        "\n",
        "#ADDING BOTH TI ASSEMBLER\n",
        "assemblerInputs = [c + \"_encoded\" for c in categoricalColumns] + numericCols\n",
        "\n",
        "#VECTORIZING TO CREATE A NEW FEATURES COLUMN WITH INDEXED AND ENCODED VALUES\n",
        "assembler = VectorAssembler(inputCols=assemblerInputs, outputCol=\"features\")\n",
        "stages += [assembler]\n"
      ],
      "execution_count": 0,
      "outputs": []
    },
    {
      "cell_type": "code",
      "metadata": {
        "id": "evnE-qOvdHw5",
        "colab_type": "code",
        "colab": {}
      },
      "source": [
        "from pyspark.ml import Pipeline"
      ],
      "execution_count": 0,
      "outputs": []
    },
    {
      "cell_type": "code",
      "metadata": {
        "id": "1BDcVmHuebIE",
        "colab_type": "code",
        "colab": {}
      },
      "source": [
        "#COMBINING ALL THE STAGES INTO ONE, FITTING DF2 AND TRANSFORMING IT\n",
        "\n",
        "pipeline = Pipeline(stages = stages)\n",
        "pipelineModel = pipeline.fit(df2)\n",
        "df2 = pipelineModel.transform(df2)\n"
      ],
      "execution_count": 0,
      "outputs": []
    },
    {
      "cell_type": "code",
      "metadata": {
        "id": "43nERd5p59JG",
        "colab_type": "code",
        "colab": {}
      },
      "source": [
        "#STORING IN NEW VARIABLE TO AVOID 'NONETYPE ERROR'\n",
        "df3=df2"
      ],
      "execution_count": 0,
      "outputs": []
    },
    {
      "cell_type": "code",
      "metadata": {
        "id": "CtLy2qwJ59MS",
        "colab_type": "code",
        "outputId": "f4a5a51b-6c56-4ec6-a2bc-3ed4c6732c5c",
        "colab": {
          "base_uri": "https://localhost:8080/",
          "height": 234
        }
      },
      "source": [
        "df3.show(5)"
      ],
      "execution_count": 0,
      "outputs": [
        {
          "output_type": "stream",
          "text": [
            "+---+----------+-------+---------+-------+-------+-------+----+--------+-----+--------+--------+-------+-----------+--------------+---------------+---------------+-----------------+-----------------+---------------+---------------+---------------+---------------+------------+-------------+----------------+----------------+-----+--------------------+\n",
            "|age|       job|marital|education|default|balance|housing|loan|campaign|pdays|previous|poutcome|deposit|job_indexed|   job_encoded|marital_indexed|marital_encoded|education_indexed|education_encoded|default_indexed|default_encoded|housing_indexed|housing_encoded|loan_indexed| loan_encoded|poutcome_indexed|poutcome_encoded|label|            features|\n",
            "+---+----------+-------+---------+-------+-------+-------+----+--------+-----+--------+--------+-------+-----------+--------------+---------------+---------------+-----------------+-----------------+---------------+---------------+---------------+---------------+------------+-------------+----------------+----------------+-----+--------------------+\n",
            "| 33|  services|married|secondary|     no|   3444|    yes|  no|       1|   91|       4| failure|    yes|        5.0|(10,[5],[1.0])|            0.0|  (2,[0],[1.0])|              0.0|    (2,[0],[1.0])|            0.0|  (1,[0],[1.0])|            1.0|      (1,[],[])|         0.0|(1,[0],[1.0])|             0.0|   (1,[0],[1.0])|  0.0|(23,[5,10,12,14,1...|\n",
            "| 56|technician|married|secondary|     no|    589|    yes|  no|       1|  147|       2| success|    yes|        1.0|(10,[1],[1.0])|            0.0|  (2,[0],[1.0])|              0.0|    (2,[0],[1.0])|            0.0|  (1,[0],[1.0])|            1.0|      (1,[],[])|         0.0|(1,[0],[1.0])|             1.0|       (1,[],[])|  0.0|(23,[1,10,12,14,1...|\n",
            "| 34|    admin.|married| tertiary|     no|    899|    yes|  no|       1|  170|       3| failure|    yes|        2.0|(10,[2],[1.0])|            0.0|  (2,[0],[1.0])|              1.0|    (2,[1],[1.0])|            0.0|  (1,[0],[1.0])|            1.0|      (1,[],[])|         0.0|(1,[0],[1.0])|             0.0|   (1,[0],[1.0])|  0.0|(23,[2,10,13,14,1...|\n",
            "| 53|   retired|married| tertiary|     no|   2269|     no|  no|       2|  150|       1| success|    yes|        4.0|(10,[4],[1.0])|            0.0|  (2,[0],[1.0])|              1.0|    (2,[1],[1.0])|            0.0|  (1,[0],[1.0])|            0.0|  (1,[0],[1.0])|         0.0|(1,[0],[1.0])|             1.0|       (1,[],[])|  0.0|(23,[4,10,13,14,1...|\n",
            "| 37|technician|married|secondary|     no|   5115|    yes|  no|       2|  171|       4| failure|    yes|        1.0|(10,[1],[1.0])|            0.0|  (2,[0],[1.0])|              0.0|    (2,[0],[1.0])|            0.0|  (1,[0],[1.0])|            1.0|      (1,[],[])|         0.0|(1,[0],[1.0])|             0.0|   (1,[0],[1.0])|  0.0|(23,[1,10,12,14,1...|\n",
            "+---+----------+-------+---------+-------+-------+-------+----+--------+-----+--------+--------+-------+-----------+--------------+---------------+---------------+-----------------+-----------------+---------------+---------------+---------------+---------------+------------+-------------+----------------+----------------+-----+--------------------+\n",
            "only showing top 5 rows\n",
            "\n"
          ],
          "name": "stdout"
        }
      ]
    },
    {
      "cell_type": "code",
      "metadata": {
        "id": "CJRIqKC_59Pa",
        "colab_type": "code",
        "outputId": "1494e305-094c-4818-b7ac-4f8414e86064",
        "colab": {
          "base_uri": "https://localhost:8080/",
          "height": 315
        }
      },
      "source": [
        "#ADDING ALL THE ORIGINAL COLUMNS TO THE NEW DATA FRAME\n",
        "selectedCols = ['label', 'features'] + cols\n",
        "df3 = df3.select(selectedCols)\n",
        "\n",
        "#DATA DISTRIBUTION OF NEW DATA FRAME\n",
        "df3.printSchema()"
      ],
      "execution_count": 0,
      "outputs": [
        {
          "output_type": "stream",
          "text": [
            "root\n",
            " |-- label: double (nullable = false)\n",
            " |-- features: vector (nullable = true)\n",
            " |-- age: integer (nullable = true)\n",
            " |-- job: string (nullable = true)\n",
            " |-- marital: string (nullable = true)\n",
            " |-- education: string (nullable = true)\n",
            " |-- default: string (nullable = true)\n",
            " |-- balance: integer (nullable = true)\n",
            " |-- housing: string (nullable = true)\n",
            " |-- loan: string (nullable = true)\n",
            " |-- campaign: integer (nullable = true)\n",
            " |-- pdays: integer (nullable = true)\n",
            " |-- previous: integer (nullable = true)\n",
            " |-- poutcome: string (nullable = true)\n",
            " |-- deposit: string (nullable = true)\n",
            "\n"
          ],
          "name": "stdout"
        }
      ]
    },
    {
      "cell_type": "code",
      "metadata": {
        "id": "66smVI9h6GV3",
        "colab_type": "code",
        "outputId": "15ce1a94-5f30-4ebb-db7e-038c765b5a4c",
        "colab": {
          "base_uri": "https://localhost:8080/",
          "height": 210
        }
      },
      "source": [
        "df3.show(5)"
      ],
      "execution_count": 0,
      "outputs": [
        {
          "output_type": "stream",
          "text": [
            "+-----+--------------------+---+----------+-------+---------+-------+-------+-------+----+--------+-----+--------+--------+-------+\n",
            "|label|            features|age|       job|marital|education|default|balance|housing|loan|campaign|pdays|previous|poutcome|deposit|\n",
            "+-----+--------------------+---+----------+-------+---------+-------+-------+-------+----+--------+-----+--------+--------+-------+\n",
            "|  0.0|(23,[5,10,12,14,1...| 33|  services|married|secondary|     no|   3444|    yes|  no|       1|   91|       4| failure|    yes|\n",
            "|  0.0|(23,[1,10,12,14,1...| 56|technician|married|secondary|     no|    589|    yes|  no|       1|  147|       2| success|    yes|\n",
            "|  0.0|(23,[2,10,13,14,1...| 34|    admin.|married| tertiary|     no|    899|    yes|  no|       1|  170|       3| failure|    yes|\n",
            "|  0.0|(23,[4,10,13,14,1...| 53|   retired|married| tertiary|     no|   2269|     no|  no|       2|  150|       1| success|    yes|\n",
            "|  0.0|(23,[1,10,12,14,1...| 37|technician|married|secondary|     no|   5115|    yes|  no|       2|  171|       4| failure|    yes|\n",
            "+-----+--------------------+---+----------+-------+---------+-------+-------+-------+----+--------+-----+--------+--------+-------+\n",
            "only showing top 5 rows\n",
            "\n"
          ],
          "name": "stdout"
        }
      ]
    },
    {
      "cell_type": "markdown",
      "metadata": {
        "colab_type": "text",
        "id": "pOqHERYJCQuC"
      },
      "source": [
        "## Normalisation"
      ]
    },
    {
      "cell_type": "code",
      "metadata": {
        "colab_type": "code",
        "id": "cfL6_sca5VwI",
        "colab": {}
      },
      "source": [
        "#SELECTING ONLY THE ENCODED COLUMNS TO NORMALIZE  \n",
        "from pyspark.ml.feature import MinMaxScaler\n",
        "norm_vars=['features','job_encoded','marital_encoded','loan_encoded','default_encoded','education_encoded','housing_encoded','poutcome_encoded']\n",
        "\n",
        "#USING MIN-MAX SCALER FUNCTION TO SCLE IT DOWN BETWEEN 0 AND 1\n",
        "scaler = [MinMaxScaler(inputCol=scale_features ,outputCol=scale_features+ \"_SCALED\") for scale_features in norm_vars]\n",
        "\n",
        "#PIPELINING FOR ALL THE COLUMNS AND FITTING IT AGAIN TO DF2\n",
        "pipeline = Pipeline(stages=scaler)\n",
        "scalerModel =  pipeline.fit(df2)\n",
        "scaledData = scalerModel.transform(df2)"
      ],
      "execution_count": 0,
      "outputs": []
    },
    {
      "cell_type": "code",
      "metadata": {
        "id": "S4SmRWkPtkkn",
        "colab_type": "code",
        "outputId": "21e5285a-92b1-4248-a237-8e0607862915",
        "colab": {
          "base_uri": "https://localhost:8080/",
          "height": 234
        }
      },
      "source": [
        "#DISPLAYING ALL THE NORMALIZED VALUES\n",
        "scaledData.show(5)"
      ],
      "execution_count": 0,
      "outputs": [
        {
          "output_type": "stream",
          "text": [
            "+---+----------+-------+---------+-------+-------+-------+----+--------+-----+--------+--------+-------+-----------+--------------+---------------+---------------+-----------------+-----------------+---------------+---------------+---------------+---------------+------------+-------------+----------------+----------------+-----+--------------------+--------------------+--------------------+----------------------+-------------------+----------------------+------------------------+----------------------+-----------------------+\n",
            "|age|       job|marital|education|default|balance|housing|loan|campaign|pdays|previous|poutcome|deposit|job_indexed|   job_encoded|marital_indexed|marital_encoded|education_indexed|education_encoded|default_indexed|default_encoded|housing_indexed|housing_encoded|loan_indexed| loan_encoded|poutcome_indexed|poutcome_encoded|label|            features|     features_SCALED|  job_encoded_SCALED|marital_encoded_SCALED|loan_encoded_SCALED|default_encoded_SCALED|education_encoded_SCALED|housing_encoded_SCALED|poutcome_encoded_SCALED|\n",
            "+---+----------+-------+---------+-------+-------+-------+----+--------+-----+--------+--------+-------+-----------+--------------+---------------+---------------+-----------------+-----------------+---------------+---------------+---------------+---------------+------------+-------------+----------------+----------------+-----+--------------------+--------------------+--------------------+----------------------+-------------------+----------------------+------------------------+----------------------+-----------------------+\n",
            "| 33|  services|married|secondary|     no|   3444|    yes|  no|       1|   91|       4| failure|    yes|        5.0|(10,[5],[1.0])|            0.0|  (2,[0],[1.0])|              0.0|    (2,[0],[1.0])|            0.0|  (1,[0],[1.0])|            1.0|      (1,[],[])|         0.0|(1,[0],[1.0])|             0.0|   (1,[0],[1.0])|  0.0|(23,[5,10,12,14,1...|[0.0,0.0,0.0,0.0,...|[0.0,0.0,0.0,0.0,...|             [1.0,0.0]|              [1.0]|                 [1.0]|               [1.0,0.0]|                 [0.0]|                  [1.0]|\n",
            "| 56|technician|married|secondary|     no|    589|    yes|  no|       1|  147|       2| success|    yes|        1.0|(10,[1],[1.0])|            0.0|  (2,[0],[1.0])|              0.0|    (2,[0],[1.0])|            0.0|  (1,[0],[1.0])|            1.0|      (1,[],[])|         0.0|(1,[0],[1.0])|             1.0|       (1,[],[])|  0.0|(23,[1,10,12,14,1...|[0.0,1.0,0.0,0.0,...|[0.0,1.0,0.0,0.0,...|             [1.0,0.0]|              [1.0]|                 [1.0]|               [1.0,0.0]|                 [0.0]|                  [0.0]|\n",
            "| 34|    admin.|married| tertiary|     no|    899|    yes|  no|       1|  170|       3| failure|    yes|        2.0|(10,[2],[1.0])|            0.0|  (2,[0],[1.0])|              1.0|    (2,[1],[1.0])|            0.0|  (1,[0],[1.0])|            1.0|      (1,[],[])|         0.0|(1,[0],[1.0])|             0.0|   (1,[0],[1.0])|  0.0|(23,[2,10,13,14,1...|[0.0,0.0,1.0,0.0,...|[0.0,0.0,1.0,0.0,...|             [1.0,0.0]|              [1.0]|                 [1.0]|               [0.0,1.0]|                 [0.0]|                  [1.0]|\n",
            "| 53|   retired|married| tertiary|     no|   2269|     no|  no|       2|  150|       1| success|    yes|        4.0|(10,[4],[1.0])|            0.0|  (2,[0],[1.0])|              1.0|    (2,[1],[1.0])|            0.0|  (1,[0],[1.0])|            0.0|  (1,[0],[1.0])|         0.0|(1,[0],[1.0])|             1.0|       (1,[],[])|  0.0|(23,[4,10,13,14,1...|[0.0,0.0,0.0,0.0,...|[0.0,0.0,0.0,0.0,...|             [1.0,0.0]|              [1.0]|                 [1.0]|               [0.0,1.0]|                 [1.0]|                  [0.0]|\n",
            "| 37|technician|married|secondary|     no|   5115|    yes|  no|       2|  171|       4| failure|    yes|        1.0|(10,[1],[1.0])|            0.0|  (2,[0],[1.0])|              0.0|    (2,[0],[1.0])|            0.0|  (1,[0],[1.0])|            1.0|      (1,[],[])|         0.0|(1,[0],[1.0])|             0.0|   (1,[0],[1.0])|  0.0|(23,[1,10,12,14,1...|[0.0,1.0,0.0,0.0,...|[0.0,1.0,0.0,0.0,...|             [1.0,0.0]|              [1.0]|                 [1.0]|               [1.0,0.0]|                 [0.0]|                  [1.0]|\n",
            "+---+----------+-------+---------+-------+-------+-------+----+--------+-----+--------+--------+-------+-----------+--------------+---------------+---------------+-----------------+-----------------+---------------+---------------+---------------+---------------+------------+-------------+----------------+----------------+-----+--------------------+--------------------+--------------------+----------------------+-------------------+----------------------+------------------------+----------------------+-----------------------+\n",
            "only showing top 5 rows\n",
            "\n"
          ],
          "name": "stdout"
        }
      ]
    },
    {
      "cell_type": "code",
      "metadata": {
        "id": "eSGlW9UttHaM",
        "colab_type": "code",
        "colab": {}
      },
      "source": [
        "#SELECTING ONLY THE REQUIRED COLUMNS FOR FURTHER SUPERVISED AND UNSUPERVISED LEARNING\n",
        "\n",
        "df4=scaledData.select('deposit','label','features','job_encoded_SCALED','marital_encoded_SCALED','loan_encoded_SCALED','default_encoded_SCALED','education_encoded_SCALED','housing_encoded_SCALED','poutcome_encoded_SCALED','features_SCALED')"
      ],
      "execution_count": 0,
      "outputs": []
    },
    {
      "cell_type": "code",
      "metadata": {
        "id": "12LhTTAttt_z",
        "colab_type": "code",
        "outputId": "c7c77485-19a2-4432-dec2-26ffe66111dc",
        "colab": {
          "base_uri": "https://localhost:8080/",
          "height": 230
        }
      },
      "source": [
        "df4.show(5)"
      ],
      "execution_count": 0,
      "outputs": [
        {
          "output_type": "stream",
          "text": [
            "+-------+-----+--------------------+--------------------+----------------------+-------------------+----------------------+------------------------+----------------------+-----------------------+--------------------+\n",
            "|deposit|label|            features|  job_encoded_SCALED|marital_encoded_SCALED|loan_encoded_SCALED|default_encoded_SCALED|education_encoded_SCALED|housing_encoded_SCALED|poutcome_encoded_SCALED|     features_SCALED|\n",
            "+-------+-----+--------------------+--------------------+----------------------+-------------------+----------------------+------------------------+----------------------+-----------------------+--------------------+\n",
            "|    yes|  0.0|(23,[5,10,12,14,1...|[0.0,0.0,0.0,0.0,...|             [1.0,0.0]|              [1.0]|                 [1.0]|               [1.0,0.0]|                 [0.0]|                  [1.0]|[0.0,0.0,0.0,0.0,...|\n",
            "|    yes|  0.0|(23,[1,10,12,14,1...|[0.0,1.0,0.0,0.0,...|             [1.0,0.0]|              [1.0]|                 [1.0]|               [1.0,0.0]|                 [0.0]|                  [0.0]|[0.0,1.0,0.0,0.0,...|\n",
            "|    yes|  0.0|(23,[2,10,13,14,1...|[0.0,0.0,1.0,0.0,...|             [1.0,0.0]|              [1.0]|                 [1.0]|               [0.0,1.0]|                 [0.0]|                  [1.0]|[0.0,0.0,1.0,0.0,...|\n",
            "|    yes|  0.0|(23,[4,10,13,14,1...|[0.0,0.0,0.0,0.0,...|             [1.0,0.0]|              [1.0]|                 [1.0]|               [0.0,1.0]|                 [1.0]|                  [0.0]|[0.0,0.0,0.0,0.0,...|\n",
            "|    yes|  0.0|(23,[1,10,12,14,1...|[0.0,1.0,0.0,0.0,...|             [1.0,0.0]|              [1.0]|                 [1.0]|               [1.0,0.0]|                 [0.0]|                  [1.0]|[0.0,1.0,0.0,0.0,...|\n",
            "+-------+-----+--------------------+--------------------+----------------------+-------------------+----------------------+------------------------+----------------------+-----------------------+--------------------+\n",
            "only showing top 5 rows\n",
            "\n"
          ],
          "name": "stdout"
        }
      ]
    },
    {
      "cell_type": "code",
      "metadata": {
        "id": "iRyWCDVjxDvH",
        "colab_type": "code",
        "outputId": "13114df9-0d4d-47d4-a219-8449dad5c449",
        "colab": {
          "base_uri": "https://localhost:8080/",
          "height": 59
        }
      },
      "source": [
        "df2.take(1)"
      ],
      "execution_count": 0,
      "outputs": [
        {
          "output_type": "execute_result",
          "data": {
            "text/plain": [
              "[Row(age=33, job='services', marital='married', education='secondary', default='no', balance=3444, housing='yes', loan='no', campaign=1, pdays=91, previous=4, poutcome='failure', deposit='yes', job_indexed=5.0, job_encoded=SparseVector(10, {5: 1.0}), marital_indexed=0.0, marital_encoded=SparseVector(2, {0: 1.0}), education_indexed=0.0, education_encoded=SparseVector(2, {0: 1.0}), default_indexed=0.0, default_encoded=SparseVector(1, {0: 1.0}), housing_indexed=1.0, housing_encoded=SparseVector(1, {}), loan_indexed=0.0, loan_encoded=SparseVector(1, {0: 1.0}), poutcome_indexed=0.0, poutcome_encoded=SparseVector(1, {0: 1.0}), label=0.0, features=SparseVector(23, {5: 1.0, 10: 1.0, 12: 1.0, 14: 1.0, 16: 1.0, 17: 1.0, 18: 33.0, 19: 3444.0, 20: 1.0, 21: 91.0, 22: 4.0}))]"
            ]
          },
          "metadata": {
            "tags": []
          },
          "execution_count": 25
        }
      ]
    },
    {
      "cell_type": "markdown",
      "metadata": {
        "colab_type": "text",
        "id": "9trUY7ZgCzhW"
      },
      "source": [
        "# Unsupervised learning"
      ]
    },
    {
      "cell_type": "markdown",
      "metadata": {
        "colab_type": "text",
        "id": "KTQfUch2Cmmi"
      },
      "source": [
        "## K-means"
      ]
    },
    {
      "cell_type": "code",
      "metadata": {
        "colab_type": "code",
        "id": "dGGZI70Ohqgg",
        "colab": {}
      },
      "source": [
        "# Perform unsupervised learning on df2 with k-means \n",
        "# You can use whole df2 as both training and testing data, \n",
        "# Evaluate the clustering result using Accuracy.  \n",
        "from pyspark.ml.clustering import KMeans\n",
        "from pyspark.ml.evaluation import ClusteringEvaluator\n",
        "import matplotlib.pyplot as plt  \n",
        "from sklearn.datasets.samples_generator import make_blobs \n",
        "from pyspark.ml.evaluation import MulticlassClassificationEvaluator\n",
        "from pyspark.ml.evaluation import BinaryClassificationEvaluator \n",
        "%matplotlib inline"
      ],
      "execution_count": 0,
      "outputs": []
    },
    {
      "cell_type": "code",
      "metadata": {
        "id": "0RJ11wwK0yS8",
        "colab_type": "code",
        "outputId": "7a308efd-eb6e-4a30-9ff3-36996f6066ca",
        "colab": {
          "base_uri": "https://localhost:8080/",
          "height": 298
        }
      },
      "source": [
        "from pyspark.ml import Pipeline\n",
        "\n",
        "#PERFORMING KMEANS CLUSTERING ON DF2 DATA FRAME\n",
        "#WHOLE DATA IS USED AS TRAINING AND TESTING DATA AS IT IS UNSUPERVISED\n",
        "kmeans = KMeans().setK(2).setSeed(742).setFeaturesCol(\"features\")\n",
        "model = kmeans.fit(df4)\n",
        "predictions = model.transform(df4)\n",
        "predictions.select('label', 'prediction').show(10)\n"
      ],
      "execution_count": 0,
      "outputs": [
        {
          "output_type": "stream",
          "text": [
            "+-----+----------+\n",
            "|label|prediction|\n",
            "+-----+----------+\n",
            "|  0.0|         0|\n",
            "|  0.0|         0|\n",
            "|  0.0|         0|\n",
            "|  0.0|         0|\n",
            "|  0.0|         0|\n",
            "|  0.0|         0|\n",
            "|  0.0|         0|\n",
            "|  0.0|         0|\n",
            "|  0.0|         0|\n",
            "|  0.0|         0|\n",
            "+-----+----------+\n",
            "only showing top 10 rows\n",
            "\n"
          ],
          "name": "stdout"
        }
      ]
    },
    {
      "cell_type": "code",
      "metadata": {
        "id": "zLlxSW1NvFFp",
        "colab_type": "code",
        "outputId": "a5369404-451f-452e-bf24-c2b574d93737",
        "colab": {
          "base_uri": "https://localhost:8080/",
          "height": 105
        }
      },
      "source": [
        "#APPLYING KMEANS USING ELBOW METHOD TO GET THE OPTIMAL VALUE OF K TO HELP IN ANALYSIS IN REPORT\n",
        "\n",
        "kmeans3=KMeans(featuresCol=\"features\",k=3)\n",
        "kmeans2=KMeans(featuresCol=\"features\",k=2)\n",
        "model_k3 = kmeans3.fit(df4)\n",
        "model_k2 = kmeans2.fit(df4)\n",
        "wssse_k3 = model_k3.computeCost(df4)\n",
        "wssse_k2 = model_k2.computeCost(df4)\n",
        "print(\"With K=3\")\n",
        "print(\"Within Set Sum of Squared Errors = \" + str(wssse_k3))\n",
        "print('--'*30)\n",
        "print(\"With K=2\")\n",
        "print(\"Within Set Sum of Squared Errors = \" + str(wssse_k2))"
      ],
      "execution_count": 0,
      "outputs": [
        {
          "output_type": "stream",
          "text": [
            "With K=3\n",
            "Within Set Sum of Squared Errors = 7238836072.41407\n",
            "------------------------------------------------------------\n",
            "With K=2\n",
            "Within Set Sum of Squared Errors = 14758133078.475735\n"
          ],
          "name": "stdout"
        }
      ]
    },
    {
      "cell_type": "code",
      "metadata": {
        "id": "-Bv9WAhIzRll",
        "colab_type": "code",
        "outputId": "e766b2fe-a0ab-4293-8f7a-064c7161e893",
        "colab": {
          "base_uri": "https://localhost:8080/",
          "height": 385
        }
      },
      "source": [
        "#APPLYING FOR LOOP FOR REST OF THE VALUES OF K\n",
        "for k in range(2,9):\n",
        "    kmeans = KMeans(featuresCol='features_SCALED',k=k)\n",
        "    models = kmeans.fit(df4)\n",
        "    wssse = models.computeCost(df4)\n",
        "    print(\"With K={}\".format(k))\n",
        "    print(\"Within Set Sum of Squared Errors = \" + str(wssse))\n",
        "    print('--'*30)"
      ],
      "execution_count": 0,
      "outputs": [
        {
          "output_type": "stream",
          "text": [
            "With K=2\n",
            "Within Set Sum of Squared Errors = 4427.404425274248\n",
            "------------------------------------------------------------\n",
            "With K=3\n",
            "Within Set Sum of Squared Errors = 3747.1677352035435\n",
            "------------------------------------------------------------\n",
            "With K=4\n",
            "Within Set Sum of Squared Errors = 3584.720421520869\n",
            "------------------------------------------------------------\n",
            "With K=5\n",
            "Within Set Sum of Squared Errors = 3049.1591149047044\n",
            "------------------------------------------------------------\n",
            "With K=6\n",
            "Within Set Sum of Squared Errors = 2984.0339820930967\n",
            "------------------------------------------------------------\n",
            "With K=7\n",
            "Within Set Sum of Squared Errors = 3015.184602159156\n",
            "------------------------------------------------------------\n",
            "With K=8\n",
            "Within Set Sum of Squared Errors = 2749.2696471642034\n",
            "------------------------------------------------------------\n"
          ],
          "name": "stdout"
        }
      ]
    },
    {
      "cell_type": "code",
      "metadata": {
        "id": "XO_NwL3SKHhx",
        "colab_type": "code",
        "outputId": "4b16e869-6500-4e03-b080-333450ac6087",
        "colab": {
          "base_uri": "https://localhost:8080/",
          "height": 245
        }
      },
      "source": [
        "#FINDING CLUSTER CENTRES FOR THE FIRST KMEANS WE HAD APPLIED TO DF2\n",
        "centers = model.clusterCenters()\n",
        "print(\"Cluster Centers: \")\n",
        "for center in centers:\n",
        " print(center)"
      ],
      "execution_count": 0,
      "outputs": [
        {
          "output_type": "stream",
          "text": [
            "Cluster Centers: \n",
            "[2.52048193e-01 1.60481928e-01 1.45542169e-01 1.27228916e-01\n",
            " 8.77108434e-02 7.27710843e-02 4.33734940e-02 3.75903614e-02\n",
            " 3.22891566e-02 2.07228916e-02 5.63855422e-01 3.39759036e-01\n",
            " 5.09397590e-01 3.91807229e-01 9.96626506e-01 5.43614458e-01\n",
            " 8.97349398e-01 5.44096386e-01 4.17518072e+01 1.21295759e+03\n",
            " 1.81012048e+00 2.04011566e+02 3.09734940e+00]\n",
            "[3.01886792e-01 1.98113208e-01 7.54716981e-02 6.60377358e-02\n",
            " 1.32075472e-01 3.77358491e-02 3.77358491e-02 8.49056604e-02\n",
            " 6.60377358e-02 0.00000000e+00 6.03773585e-01 3.49056604e-01\n",
            " 3.20754717e-01 5.28301887e-01 1.00000000e+00 6.50943396e-01\n",
            " 1.00000000e+00 4.43396226e-01 4.36415094e+01 1.21177358e+04\n",
            " 2.03773585e+00 1.80273585e+02 2.98113208e+00]\n"
          ],
          "name": "stdout"
        }
      ]
    },
    {
      "cell_type": "code",
      "metadata": {
        "id": "36zs36jk_5cl",
        "colab_type": "code",
        "outputId": "4c896ab9-044f-4dfd-9cdf-add62458ecb4",
        "colab": {
          "base_uri": "https://localhost:8080/",
          "height": 43
        }
      },
      "source": [
        "#CONVERTING THE PREDICTION AND LABEL DATA FRAME TO PANDAS FOR ACCURACY\n",
        "import numpy as np\n",
        "from sklearn.metrics import accuracy_score\n",
        "\n",
        "#USING TOPANDAS FUNCTION FOR CONVERSION\n",
        "y_true=predictions.toPandas()\n",
        "y_pred=predictions.toPandas()\n",
        "\n",
        "#USING ACCURACY FUNCTION TO FIND ACCURACY\n",
        "accuracy_score(y_true.label, y_pred.prediction)\n"
      ],
      "execution_count": 0,
      "outputs": [
        {
          "output_type": "execute_result",
          "data": {
            "text/plain": [
              "0.661164603392939"
            ]
          },
          "metadata": {
            "tags": []
          },
          "execution_count": 31
        }
      ]
    },
    {
      "cell_type": "markdown",
      "metadata": {
        "colab_type": "text",
        "id": "FHom8o2KCt36"
      },
      "source": [
        "## Principal Component Analysis(PCA)"
      ]
    },
    {
      "cell_type": "code",
      "metadata": {
        "colab_type": "code",
        "id": "wT4cx5uGTjmj",
        "outputId": "e679d00a-545f-441a-acb4-7b3a127cb8cd",
        "colab": {
          "base_uri": "https://localhost:8080/",
          "height": 234
        }
      },
      "source": [
        "#IMPORTING PACKAGES FOR PCA\n",
        "from pyspark.ml.feature import PCA\n",
        "from pyspark.mllib.linalg.distributed import RowMatrix\n",
        "from sklearn.feature_extraction import DictVectorizer\n",
        "from __future__ import print_function\n",
        "from pyspark.ml.feature import  VectorAssembler\n",
        "from pyspark.mllib.linalg import Vectors\n",
        "from pyspark.ml import Pipeline\n",
        "import numpy as np\n",
        "\n",
        "#APPLYING PCA FUNCTION TO NORMALIZED FEATURE COLUMN ONLY\n",
        "pca = PCA(k=2, inputCol='features_SCALED', outputCol='pcaFeature')\n",
        "\n",
        "#FITTING AND TRANSFORMING THE DATA\n",
        "model = pca.fit(df4)\n",
        "\n",
        "resultdf = model.transform(df4).show(5)\n"
      ],
      "execution_count": 0,
      "outputs": [
        {
          "output_type": "stream",
          "text": [
            "+-------+-----+--------------------+--------------------+----------------------+-------------------+----------------------+------------------------+----------------------+-----------------------+--------------------+--------------------+\n",
            "|deposit|label|            features|  job_encoded_SCALED|marital_encoded_SCALED|loan_encoded_SCALED|default_encoded_SCALED|education_encoded_SCALED|housing_encoded_SCALED|poutcome_encoded_SCALED|     features_SCALED|          pcaFeature|\n",
            "+-------+-----+--------------------+--------------------+----------------------+-------------------+----------------------+------------------------+----------------------+-----------------------+--------------------+--------------------+\n",
            "|    yes|  0.0|(23,[5,10,12,14,1...|[0.0,0.0,0.0,0.0,...|             [1.0,0.0]|              [1.0]|                 [1.0]|               [1.0,0.0]|                 [0.0]|                  [1.0]|[0.0,0.0,0.0,0.0,...|[0.96364248505160...|\n",
            "|    yes|  0.0|(23,[1,10,12,14,1...|[0.0,1.0,0.0,0.0,...|             [1.0,0.0]|              [1.0]|                 [1.0]|               [1.0,0.0]|                 [0.0]|                  [0.0]|[0.0,1.0,0.0,0.0,...|[0.83734101836268...|\n",
            "|    yes|  0.0|(23,[2,10,13,14,1...|[0.0,0.0,1.0,0.0,...|             [1.0,0.0]|              [1.0]|                 [1.0]|               [0.0,1.0]|                 [0.0]|                  [1.0]|[0.0,0.0,1.0,0.0,...|[-0.1084500265257...|\n",
            "|    yes|  0.0|(23,[4,10,13,14,1...|[0.0,0.0,0.0,0.0,...|             [1.0,0.0]|              [1.0]|                 [1.0]|               [0.0,1.0]|                 [1.0]|                  [0.0]|[0.0,0.0,0.0,0.0,...|[-0.4795609426700...|\n",
            "|    yes|  0.0|(23,[1,10,12,14,1...|[0.0,1.0,0.0,0.0,...|             [1.0,0.0]|              [1.0]|                 [1.0]|               [1.0,0.0]|                 [0.0]|                  [1.0]|[0.0,1.0,0.0,0.0,...|[0.95767948650617...|\n",
            "+-------+-----+--------------------+--------------------+----------------------+-------------------+----------------------+------------------------+----------------------+-----------------------+--------------------+--------------------+\n",
            "only showing top 5 rows\n",
            "\n"
          ],
          "name": "stdout"
        }
      ]
    },
    {
      "cell_type": "code",
      "metadata": {
        "id": "mL0OE8L6bOH_",
        "colab_type": "code",
        "outputId": "743662a5-6f5f-41df-b854-75f57c880913",
        "colab": {
          "base_uri": "https://localhost:8080/",
          "height": 474
        }
      },
      "source": [
        "#DISPLAYING ONLY PREDICTOR VARIABLE AND ITS PCA FEATURES\n",
        "result = model.transform(df4).select(\"deposit\",\"pcaFeature\")\n",
        "result.show(truncate=False)"
      ],
      "execution_count": 0,
      "outputs": [
        {
          "output_type": "stream",
          "text": [
            "+-------+-----------------------------------------+\n",
            "|deposit|pcaFeature                               |\n",
            "+-------+-----------------------------------------+\n",
            "|yes    |[0.9636424850516068,0.3313811478935345]  |\n",
            "|yes    |[0.8373410183626885,0.3880024159205323]  |\n",
            "|yes    |[-0.10845002652578276,0.6564023408615134]|\n",
            "|yes    |[-0.479560942670008,1.1082617061107987]  |\n",
            "|yes    |[0.9576794865061756,0.2714643678687506]  |\n",
            "|yes    |[0.7879027918969023,0.5145147352059565]  |\n",
            "|yes    |[0.5124304692668866,-0.1917648708243116] |\n",
            "|yes    |[-0.7369547765884317,1.0356901001261056] |\n",
            "|yes    |[-0.10282606527163515,0.671822806010155] |\n",
            "|yes    |[1.0661514594145962,0.3285042864447201]  |\n",
            "|yes    |[-0.32474294634018674,0.8134787300694735]|\n",
            "|yes    |[-0.2109752165189983,0.7625432021333773] |\n",
            "|yes    |[0.9643915702012056,0.3276715407315949]  |\n",
            "|yes    |[0.8970032005901719,0.3514814197107741]  |\n",
            "|yes    |[0.47244006359864477,0.6034483574148226] |\n",
            "|yes    |[0.7840860892766188,0.421458958932977]   |\n",
            "|yes    |[-0.7640855001185652,1.117508731487764]  |\n",
            "|yes    |[0.5078194714105165,0.5364599694359978]  |\n",
            "|yes    |[1.020982108328857,0.36510796039610344]  |\n",
            "|yes    |[-0.6823665987365033,-0.5902523648089859]|\n",
            "+-------+-----------------------------------------+\n",
            "only showing top 20 rows\n",
            "\n"
          ],
          "name": "stdout"
        }
      ]
    },
    {
      "cell_type": "code",
      "metadata": {
        "id": "wDSJihZAZpHP",
        "colab_type": "code",
        "colab": {}
      },
      "source": [
        "#IMPORTING PACKAGES FOR SCATTER PLOT\n",
        "from pyspark.ml.linalg import Vectors\n",
        "import numpy as np\n",
        "import matplotlib.pyplot as plt\n",
        "import seaborn as sns; sns.set()\n",
        "\n",
        "#SEPRATING THE PCA FEATURES AS PER DEPOSIT RESPONSE0\n",
        "#COLLECT FUNCTION TO CONVERT IT FROM SPARK DATAFRAME TO NUMPY DATA FRAME\n",
        "x=result.select('pcaFeature').where(result.deposit=='yes').collect()\n",
        "y=result.select('pcaFeature').where(result.deposit=='no').collect()\n",
        "\n",
        "#CREATING EMPTY LIST FOR APPENDING\n",
        "ycomp1=[]\n",
        "ncomp1=[]\n",
        "ycomp2=[]\n",
        "ncomp2=[]\n",
        "\n",
        "#FOR LOOP FOR FIRST ARRAY\n",
        "for row in x:\n",
        "  array=row['pcaFeature'].toArray()\n",
        "  ycomp1.append(array[0])\n",
        "  ncomp1.append(array[1])\n",
        "\n",
        "#FOR LOOP FOR SECOND ARRAY \n",
        "for row in y:\n",
        "  array=row['pcaFeature'].toArray()\n",
        "  ycomp2.append(array[0])\n",
        "  ncomp2.append(array[1])\n"
      ],
      "execution_count": 0,
      "outputs": []
    },
    {
      "cell_type": "code",
      "metadata": {
        "id": "Fr8bqmqAmW_l",
        "colab_type": "code",
        "outputId": "2a830f6a-7179-4432-e7bc-a0932177ab10",
        "colab": {
          "base_uri": "https://localhost:8080/",
          "height": 309
        }
      },
      "source": [
        "#USING SEABORN PACKAGE FOR PLOTTING\n",
        "sns.scatterplot(ycomp1,ncomp1)\n",
        "sns.scatterplot(ycomp2,ncomp2)\n",
        "plt.xlabel(\"PC1\")\n",
        "plt.ylabel(\"PC2\")\n",
        "plt.legend([\"yes\",'no'])"
      ],
      "execution_count": 0,
      "outputs": [
        {
          "output_type": "execute_result",
          "data": {
            "text/plain": [
              "<matplotlib.legend.Legend at 0x7fbb4cc85518>"
            ]
          },
          "metadata": {
            "tags": []
          },
          "execution_count": 35
        },
        {
          "output_type": "display_data",
          "data": {
            "image/png": "[encoded data removed]",
            "text/plain": [
              "<Figure size 432x288 with 1 Axes>"
            ]
          },
          "metadata": {
            "tags": []
          }
        }
      ]
    },
    {
      "cell_type": "markdown",
      "metadata": {
        "colab_type": "text",
        "id": "ulp_uILXCv4Z"
      },
      "source": [
        "# Supervised learning"
      ]
    },
    {
      "cell_type": "code",
      "metadata": {
        "colab_type": "code",
        "id": "0O7tszcPfnHN",
        "outputId": "56a66511-c68e-47a7-ba96-aeb3c9363aa2",
        "colab": {
          "base_uri": "https://localhost:8080/",
          "height": 53
        }
      },
      "source": [
        "#SPLITTING NORMALIZED DATA FRAME INTO 70% AND 30% RATIO\n",
        "train, test = df4.randomSplit([0.7, 0.3], seed = 742)\n",
        "print(\"Training Dataset Count: \" + str(train.count()))\n",
        "print(\"Test Dataset Count: \" + str(test.count()))"
      ],
      "execution_count": 0,
      "outputs": [
        {
          "output_type": "stream",
          "text": [
            "Training Dataset Count: 1535\n",
            "Test Dataset Count: 646\n"
          ],
          "name": "stdout"
        }
      ]
    },
    {
      "cell_type": "markdown",
      "metadata": {
        "colab_type": "text",
        "id": "2SsHdh7YC-eN"
      },
      "source": [
        "## Logistic Regression Model"
      ]
    },
    {
      "cell_type": "code",
      "metadata": {
        "colab_type": "code",
        "id": "Vqo_ywFQYxSj",
        "colab": {}
      },
      "source": [
        "#IMPORTING PACKAGES FOR LOGISTIC REGRESSION\n",
        "from pyspark.ml.classification import LogisticRegression\n",
        "from pyspark.ml.evaluation import MulticlassClassificationEvaluator\n",
        "from pyspark.ml.evaluation import BinaryClassificationEvaluator \n",
        "\n",
        "#FITTING A LOGISTIC REGRESSION MODEL TO TRAIN DATA USING NORMALIZED FEATURES\n",
        "lr = LogisticRegression(featuresCol = 'features_SCALED', labelCol = 'label', maxIter=10)\n",
        "lrModel = lr.fit(train)\n",
        "\n"
      ],
      "execution_count": 0,
      "outputs": []
    },
    {
      "cell_type": "code",
      "metadata": {
        "colab_type": "code",
        "id": "hANwFUzhgG83",
        "outputId": "bc5e5c5f-1e3b-4590-b14f-00d8fb8e4977",
        "colab": {
          "base_uri": "https://localhost:8080/",
          "height": 275
        }
      },
      "source": [
        "#SORTING AND PLOTTING ALL THE 23 COEFFICIENTS OF THE MODEL\n",
        "import matplotlib.pyplot as plt\n",
        "import numpy as np\n",
        "\n",
        "beta = np.sort(lrModel.coefficients)\n",
        "\n",
        "#PLOTTING AND LABELLING\n",
        "plt.plot(beta)\n",
        "plt.ylabel('Beta Coefficients')\n",
        "plt.show()"
      ],
      "execution_count": 0,
      "outputs": [
        {
          "output_type": "display_data",
          "data": {
            "image/png": "[encoded data removed]",
            "text/plain": [
              "<Figure size 432x288 with 1 Axes>"
            ]
          },
          "metadata": {
            "tags": []
          }
        }
      ]
    },
    {
      "cell_type": "code",
      "metadata": {
        "id": "4rG0hiMAMwIV",
        "colab_type": "code",
        "outputId": "96257575-bdc2-4967-c846-32d9048cf723",
        "colab": {
          "base_uri": "https://localhost:8080/",
          "height": 147
        }
      },
      "source": [
        "#PRINTING COEFFICIENTS AND INTERCEPT FOR THE MODEL\n",
        "print(beta)\n",
        "\n",
        "print(\"Coefficients: \" + str(lrModel.coefficients))\n",
        "print(\"Intercept: \" + str(lrModel.intercept))"
      ],
      "execution_count": 0,
      "outputs": [
        {
          "output_type": "stream",
          "text": [
            "[-2.20864113 -0.99831662 -0.95339901 -0.79153318 -0.72112384 -0.38152836\n",
            " -0.28002613 -0.25432405 -0.24689435 -0.14907016 -0.13648435 -0.03572276\n",
            " -0.01991325 -0.01189325  0.01281869  0.12005201  0.1279859   0.22068628\n",
            "  0.47822905  0.73550459  0.79955062  1.76461063  1.79233186]\n",
            "Coefficients: [0.1279858967464541,0.2206862792770359,-0.011893248926374198,0.47822904506731306,-0.38152836223301295,-0.14907015906498416,-0.9983166197231241,-0.7915331838368208,0.12005201083032536,0.79955061890892,0.012818691688913506,-0.019913248734469282,-0.03572275995020695,-0.13648435391739383,-0.28002612881879213,-0.9533990130694295,-0.7211238392929601,1.7646106296301638,-0.24689435416456038,-2.208641130191288,1.7923318642369326,0.7355045881923331,-0.2543240478776251]\n",
            "Intercept: -0.7724553520203608\n"
          ],
          "name": "stdout"
        }
      ]
    },
    {
      "cell_type": "code",
      "metadata": {
        "id": "G7apTaENDgiZ",
        "colab_type": "code",
        "outputId": "c7cc2a59-8324-45df-d148-193bd33e4de8",
        "colab": {
          "base_uri": "https://localhost:8080/",
          "height": 319
        }
      },
      "source": [
        "#CALCULATING ROC AND PLOTTING IT\n",
        "#USING SUMMARY FUNCTION TO GET ALL THE PARAMETERS\n",
        "trainingSummary = lrModel.summary\n",
        "\n",
        "roc = trainingSummary.roc.toPandas()\n",
        "plt.plot(roc['FPR'],roc['TPR'])\n",
        "plt.ylabel('False Positive Rate')\n",
        "plt.xlabel('True Positive Rate')\n",
        "plt.title('ROC Curve')\n",
        "plt.show()\n",
        "\n",
        "print('Training set areaUnderROC: ' + str(trainingSummary.areaUnderROC))"
      ],
      "execution_count": 0,
      "outputs": [
        {
          "output_type": "display_data",
          "data": {
            "image/png": "[encoded data removed]",
            "text/plain": [
              "<Figure size 432x288 with 1 Axes>"
            ]
          },
          "metadata": {
            "tags": []
          }
        },
        {
          "output_type": "stream",
          "text": [
            "Training set areaUnderROC: 0.8157251493753394\n"
          ],
          "name": "stdout"
        }
      ]
    },
    {
      "cell_type": "markdown",
      "metadata": {
        "id": "J-zb5RcQDs-Q",
        "colab_type": "text"
      },
      "source": [
        "BETTER THE ROC BETTER THE MODEL"
      ]
    },
    {
      "cell_type": "code",
      "metadata": {
        "id": "QQ9zDfbqDm_S",
        "colab_type": "code",
        "outputId": "83a4e65a-ddbd-40ea-df6a-47e4a9d97d1a",
        "colab": {
          "base_uri": "https://localhost:8080/",
          "height": 309
        }
      },
      "source": [
        "#PLOTTING RECALL VS PRECISION GRAPH\n",
        "pr = trainingSummary.pr.toPandas()\n",
        "plt.plot(pr['recall'],pr['precision'])\n",
        "plt.ylabel('Precision')\n",
        "plt.xlabel('Recall')\n",
        "plt.show()"
      ],
      "execution_count": 0,
      "outputs": [
        {
          "output_type": "stream",
          "text": [
            "<pyspark.ml.classification.BinaryLogisticRegressionTrainingSummary object at 0x7fbb4907a4a8>\n"
          ],
          "name": "stdout"
        },
        {
          "output_type": "display_data",
          "data": {
            "image/png": "[encoded data removed]",
            "text/plain": [
              "<Figure size 432x288 with 1 Axes>"
            ]
          },
          "metadata": {
            "tags": []
          }
        }
      ]
    },
    {
      "cell_type": "code",
      "metadata": {
        "id": "qvAh1SHs7TUB",
        "colab_type": "code",
        "outputId": "23d95098-6bd2-4292-fe9f-8923d8408547",
        "colab": {
          "base_uri": "https://localhost:8080/",
          "height": 298
        }
      },
      "source": [
        "#CALCULATING PREDICTION AND PROBABILITY FOR ALL THE FEATURES\n",
        "predictionsLR = lrModel.transform(test)\n",
        "predictionsLR.select( 'features','label', 'rawPrediction', 'prediction', 'probability').show(10)"
      ],
      "execution_count": 0,
      "outputs": [
        {
          "output_type": "stream",
          "text": [
            "+--------------------+-----+--------------------+----------+--------------------+\n",
            "|            features|label|       rawPrediction|prediction|         probability|\n",
            "+--------------------+-----+--------------------+----------+--------------------+\n",
            "|(23,[0,10,12,14,1...|  1.0|[0.97707051817156...|       0.0|[0.72652655654580...|\n",
            "|(23,[0,10,12,14,1...|  1.0|[-0.0065387902939...|       1.0|[0.49836530825088...|\n",
            "|(23,[0,10,12,14,1...|  1.0|[-0.2574143765963...|       1.0|[0.43599941758942...|\n",
            "|(23,[0,10,13,14,1...|  1.0|[0.95904326052949...|       0.0|[0.72293020905775...|\n",
            "|(23,[0,10,13,14,1...|  1.0|[0.03490368516321...|       0.0|[0.50872503552337...|\n",
            "|(23,[0,10,13,14,1...|  1.0|[0.46895053038071...|       0.0|[0.61513533094751...|\n",
            "|(23,[0,10,13,14,1...|  1.0|[0.60055191529877...|       0.0|[0.64578256559503...|\n",
            "|(23,[0,10,13,14,1...|  1.0|[0.64883091836999...|       0.0|[0.65674696446277...|\n",
            "|(23,[0,10,13,14,1...|  1.0|[1.16421802735183...|       0.0|[0.76209830734348...|\n",
            "|(23,[0,10,13,14,1...|  1.0|[2.58194539592389...|       0.0|[0.92969053828399...|\n",
            "+--------------------+-----+--------------------+----------+--------------------+\n",
            "only showing top 10 rows\n",
            "\n"
          ],
          "name": "stdout"
        }
      ]
    },
    {
      "cell_type": "code",
      "metadata": {
        "id": "98Ry1ysG9-Pv",
        "colab_type": "code",
        "outputId": "58818769-4754-421d-84be-93997c7a023e",
        "colab": {
          "base_uri": "https://localhost:8080/",
          "height": 35
        }
      },
      "source": [
        "#USING BINARYCLASS EVALUATOR FOR TEST AREA UNDER ROC CALCULATION\n",
        "#DEFAULT METRIC FOR BINARY CLASS IS AREA UNDER ROC\n",
        "\n",
        "from pyspark.ml.evaluation import BinaryClassificationEvaluator\n",
        "evaluator = BinaryClassificationEvaluator()\n",
        "print('Test Area Under ROC', evaluator.evaluate(predictionsLR))"
      ],
      "execution_count": 0,
      "outputs": [
        {
          "output_type": "stream",
          "text": [
            "Test Area Under ROC 0.7884659246419102\n"
          ],
          "name": "stdout"
        }
      ]
    },
    {
      "cell_type": "code",
      "metadata": {
        "id": "ssC9lAVe_b43",
        "colab_type": "code",
        "outputId": "63fee146-5d29-479a-c356-030d5f11e173",
        "colab": {
          "base_uri": "https://localhost:8080/",
          "height": 210
        }
      },
      "source": [
        "#PRINTING ONLY LABEL AND PREDICTION FOR ACCURACY CALCULATION\n",
        "accdf=predictions.select(\"label\",\"prediction\").show(5)"
      ],
      "execution_count": 0,
      "outputs": [
        {
          "output_type": "stream",
          "text": [
            "+-----+----------+\n",
            "|label|prediction|\n",
            "+-----+----------+\n",
            "|  0.0|         0|\n",
            "|  0.0|         0|\n",
            "|  0.0|         0|\n",
            "|  0.0|         0|\n",
            "|  0.0|         0|\n",
            "+-----+----------+\n",
            "only showing top 5 rows\n",
            "\n"
          ],
          "name": "stdout"
        }
      ]
    },
    {
      "cell_type": "code",
      "metadata": {
        "id": "4pYvrsSNB2KI",
        "colab_type": "code",
        "outputId": "b8a3bfe6-6bc3-4e81-ae71-114408f3702d",
        "colab": {
          "base_uri": "https://localhost:8080/",
          "height": 35
        }
      },
      "source": [
        "#MULTICLASS EVALUATOR FOR ACCURACY USING PREDICTION AND LABEL COLUMNS\n",
        "from pyspark.ml.evaluation import MulticlassClassificationEvaluator\n",
        "\n",
        "my_eval1 = MulticlassClassificationEvaluator(predictionCol='prediction',labelCol='label', metricName='accuracy')\n",
        "acc = my_eval1.evaluate(predictionsLR)\n",
        "print(\"accuracy=%g\" %(acc))"
      ],
      "execution_count": 0,
      "outputs": [
        {
          "output_type": "stream",
          "text": [
            "accuracy=0.741486\n"
          ],
          "name": "stdout"
        }
      ]
    },
    {
      "cell_type": "code",
      "metadata": {
        "id": "RHXJMD_1gkMU",
        "colab_type": "code",
        "outputId": "1cfaac3f-194b-4e23-fcd6-813c4f2b583f",
        "colab": {
          "base_uri": "https://localhost:8080/",
          "height": 53
        }
      },
      "source": [
        "#CALCULATING CONFUSION MATRIX OF THE LR MODEL USING MULTICLASS METRICS\n",
        "from pyspark.mllib.evaluation import MulticlassMetrics\n",
        "predandlabel=predictionsLR.select( 'label', 'prediction').rdd\n",
        "metrics = MulticlassMetrics(predandlabel)\n",
        "print(metrics.confusionMatrix())"
      ],
      "execution_count": 0,
      "outputs": [
        {
          "output_type": "stream",
          "text": [
            "DenseMatrix([[372.,  87.],\n",
            "             [ 80., 107.]])\n"
          ],
          "name": "stdout"
        }
      ]
    },
    {
      "cell_type": "code",
      "metadata": {
        "id": "nqqJUKAPeWsE",
        "colab_type": "code",
        "outputId": "58b10b47-8e1c-41c9-99f1-b0e14b764fa9",
        "colab": {
          "base_uri": "https://localhost:8080/",
          "height": 35
        }
      },
      "source": [
        "#METRICS FOR PRECISION, RECALL AND F1SCORE\n",
        "cm=metrics.confusionMatrix().toArray()\n",
        "precision=(cm[0][0])/(cm[0][0]+cm[1][0])\n",
        "recall=(cm[0][0])/(cm[0][0]+cm[0][1])\n",
        "f1score =((2*precision*recall )/ (precision + recall))\n",
        "\n",
        "print(\"Logistic regression:precision,recall,f1score\",precision,recall,f1score)"
      ],
      "execution_count": 0,
      "outputs": [
        {
          "output_type": "stream",
          "text": [
            "Logistic regression:precision,recall,f1score 0.8230088495575221 0.8104575163398693 0.8166849615806805\n"
          ],
          "name": "stdout"
        }
      ]
    },
    {
      "cell_type": "code",
      "metadata": {
        "id": "AApi7kU3wj8o",
        "colab_type": "code",
        "outputId": "9b47214e-dae5-4817-d351-a972d979fc35",
        "colab": {
          "base_uri": "https://localhost:8080/",
          "height": 292
        }
      },
      "source": [
        "#PLOTTING HEATMAP OF ALL THE METRICS PARAMETERS USING SEABORN PACKAGE\n",
        "import seaborn as sns\n",
        "sns.heatmap(cm, annot=True)"
      ],
      "execution_count": 0,
      "outputs": [
        {
          "output_type": "execute_result",
          "data": {
            "text/plain": [
              "<matplotlib.axes._subplots.AxesSubplot at 0x7fbb49006e48>"
            ]
          },
          "metadata": {
            "tags": []
          },
          "execution_count": 52
        },
        {
          "output_type": "display_data",
          "data": {
            "image/png": "[encoded data removed]",
            "text/plain": [
              "<Figure size 432x288 with 2 Axes>"
            ]
          },
          "metadata": {
            "tags": []
          }
        }
      ]
    },
    {
      "cell_type": "markdown",
      "metadata": {
        "colab_type": "text",
        "id": "evM5eiJoDHw2"
      },
      "source": [
        "## Decision Tree Model"
      ]
    },
    {
      "cell_type": "code",
      "metadata": {
        "colab_type": "code",
        "id": "He4mlHb7hBoY",
        "outputId": "ff0eab73-fd67-421a-f4ed-1258df9685f9",
        "colab": {
          "base_uri": "https://localhost:8080/",
          "height": 298
        }
      },
      "source": [
        "#IMPORTING PACKAGE FOR DECISION TREE MODEL\n",
        "#FITTING TRAIN AND TEST DATA USING FEATURES AND LABEL COLUMNS\n",
        "from pyspark.ml.classification import DecisionTreeClassifier\n",
        "dt = DecisionTreeClassifier(featuresCol = 'features', labelCol = 'label', maxDepth = 3)\n",
        "dtModel = dt.fit(train)\n",
        "predictions1 = dtModel.transform(test)\n",
        "predictions1.select( 'label', 'rawPrediction', 'prediction', 'probability').show(10)"
      ],
      "execution_count": 0,
      "outputs": [
        {
          "output_type": "stream",
          "text": [
            "+-----+-------------+----------+--------------------+\n",
            "|label|rawPrediction|prediction|         probability|\n",
            "+-----+-------------+----------+--------------------+\n",
            "|  1.0|[233.0,109.0]|       0.0|[0.68128654970760...|\n",
            "|  1.0|[233.0,109.0]|       0.0|[0.68128654970760...|\n",
            "|  1.0|[171.0,311.0]|       1.0|[0.35477178423236...|\n",
            "|  1.0|[233.0,109.0]|       0.0|[0.68128654970760...|\n",
            "|  1.0|[233.0,109.0]|       0.0|[0.68128654970760...|\n",
            "|  1.0|[233.0,109.0]|       0.0|[0.68128654970760...|\n",
            "|  1.0|[233.0,109.0]|       0.0|[0.68128654970760...|\n",
            "|  1.0|[233.0,109.0]|       0.0|[0.68128654970760...|\n",
            "|  1.0|[233.0,109.0]|       0.0|[0.68128654970760...|\n",
            "|  1.0| [626.0,58.0]|       0.0|[0.91520467836257...|\n",
            "+-----+-------------+----------+--------------------+\n",
            "only showing top 10 rows\n",
            "\n"
          ],
          "name": "stdout"
        }
      ]
    },
    {
      "cell_type": "code",
      "metadata": {
        "id": "R2yalzkNHrxp",
        "colab_type": "code",
        "colab": {}
      },
      "source": [
        "#CALCULATING AREA UNDER ROC\n",
        "evaluator = BinaryClassificationEvaluator()\n",
        "print(\"Test Area Under ROC: \" + str(evaluator.evaluate(predictions1, {evaluator.metricName: \"areaUnderROC\"})))"
      ],
      "execution_count": 0,
      "outputs": []
    },
    {
      "cell_type": "code",
      "metadata": {
        "id": "P4_CSAqjc0sr",
        "colab_type": "code",
        "outputId": "dab75f99-0bb6-451b-e0c0-04b42ba860ec",
        "colab": {
          "base_uri": "https://localhost:8080/",
          "height": 43
        }
      },
      "source": [
        "#CALCULATING ACCURACY USING MULTICLASS EVALUATOR\n",
        "from pyspark.ml.evaluation import MulticlassClassificationEvaluator\n",
        "\n",
        "my_eval2 = MulticlassClassificationEvaluator(predictionCol='prediction',labelCol='label', metricName='accuracy')\n",
        "acc = my_eval2.evaluate(predictions1)\n",
        "print(\"accuracy=%g\" %(acc))"
      ],
      "execution_count": 0,
      "outputs": [
        {
          "output_type": "stream",
          "text": [
            "accuracy=0.758514\n"
          ],
          "name": "stdout"
        }
      ]
    },
    {
      "cell_type": "code",
      "metadata": {
        "id": "5tnLP-tOfc_6",
        "colab_type": "code",
        "outputId": "b30be895-76d4-4c62-e4ca-d24e094cc325",
        "colab": {
          "base_uri": "https://localhost:8080/",
          "height": 58
        }
      },
      "source": [
        "#PRINTING CONFUSION MATRIX FOR DECISION TREE MODEL\n",
        "from pyspark.mllib.evaluation import MulticlassMetrics\n",
        "predandlabel=predictions1.select( 'label', 'prediction').rdd\n",
        "metrics1 = MulticlassMetrics(predandlabel)\n",
        "print(metrics1.confusionMatrix())"
      ],
      "execution_count": 0,
      "outputs": [
        {
          "output_type": "stream",
          "text": [
            "DenseMatrix([[374.,  78.],\n",
            "             [ 78., 116.]])\n"
          ],
          "name": "stdout"
        }
      ]
    },
    {
      "cell_type": "code",
      "metadata": {
        "id": "iwugjHgLii6j",
        "colab_type": "code",
        "outputId": "0f2b8464-caf0-4730-e33b-f0a95e2beea9",
        "colab": {
          "base_uri": "https://localhost:8080/",
          "height": 35
        }
      },
      "source": [
        "#METRICS FUNCTION TO EVALUATE RECALL, PRECISION AND F1SCORE\n",
        "cm=metrics1.confusionMatrix().toArray()\n",
        "precision=(cm[0][0])/(cm[0][0]+cm[1][0])\n",
        "recall=(cm[0][0])/(cm[0][0]+cm[0][1])\n",
        "f1score =((2*precision*recall )/ (precision + recall))\n",
        "\n",
        "print(\"Decision Tree:precision,recall,f1score\",precision,recall,f1score)"
      ],
      "execution_count": 0,
      "outputs": [
        {
          "output_type": "stream",
          "text": [
            "Decision Tree:precision,recall,f1score 0.827433628318584 0.827433628318584 0.827433628318584\n"
          ],
          "name": "stdout"
        }
      ]
    },
    {
      "cell_type": "code",
      "metadata": {
        "id": "qikznTk04OGu",
        "colab_type": "code",
        "outputId": "4a34cb98-27af-42ba-dd87-4db8b9ddcbfc",
        "colab": {
          "base_uri": "https://localhost:8080/",
          "height": 35
        }
      },
      "source": [
        "#PRINTING ALL THE IMPORTANT FEATURES\n",
        "dtModel.featureImportances"
      ],
      "execution_count": 0,
      "outputs": [
        {
          "output_type": "execute_result",
          "data": {
            "text/plain": [
              "SparseVector(23, {1: 0.0073, 15: 0.2049, 17: 0.7084, 21: 0.0682, 22: 0.0111})"
            ]
          },
          "metadata": {
            "tags": []
          },
          "execution_count": 57
        }
      ]
    },
    {
      "cell_type": "code",
      "metadata": {
        "id": "6w9-w0LIwssH",
        "colab_type": "code",
        "outputId": "aab2d921-8713-4009-e5d1-2444eb7fdd8c",
        "colab": {
          "base_uri": "https://localhost:8080/",
          "height": 292
        }
      },
      "source": [
        "#PLOTTING METRICS AS SEABORN\n",
        "import seaborn as sns\n",
        "sns.heatmap(cm, annot=True)"
      ],
      "execution_count": 0,
      "outputs": [
        {
          "output_type": "execute_result",
          "data": {
            "text/plain": [
              "<matplotlib.axes._subplots.AxesSubplot at 0x7fbb47d22cf8>"
            ]
          },
          "metadata": {
            "tags": []
          },
          "execution_count": 58
        },
        {
          "output_type": "display_data",
          "data": {
            "image/png": "[encoded data removed]",
            "text/plain": [
              "<Figure size 432x288 with 2 Axes>"
            ]
          },
          "metadata": {
            "tags": []
          }
        }
      ]
    },
    {
      "cell_type": "markdown",
      "metadata": {
        "colab_type": "text",
        "id": "CaE-Z_IlDKXF"
      },
      "source": [
        "## Naive Bayes Model"
      ]
    },
    {
      "cell_type": "code",
      "metadata": {
        "id": "MCTqc70X2ynY",
        "colab_type": "code",
        "colab": {}
      },
      "source": [
        "#IMPORTING NAIVE BAYES PACKAGE\n",
        "from pyspark.ml.classification import NaiveBayes\n",
        "\n",
        "#SELECTING NORMALIZED COLUMNS FOR MODELLING\n",
        "nbdf=predictions.select('label','job_encoded_SCALED','marital_encoded_SCALED','loan_encoded_SCALED','default_encoded_SCALED','education_encoded_SCALED','housing_encoded_SCALED','poutcome_encoded_SCALED','features_SCALED',\"prediction\")"
      ],
      "execution_count": 0,
      "outputs": []
    },
    {
      "cell_type": "code",
      "metadata": {
        "id": "fiHQfAiR27Dw",
        "colab_type": "code",
        "outputId": "5d92c202-3dbe-480a-f3c6-a684c22578e5",
        "colab": {
          "base_uri": "https://localhost:8080/",
          "height": 175
        }
      },
      "source": [
        "#RENAMING SCALED FEATURES COLUMN TO 'FEATURES' FOR NAIVE BAYES MODEL \n",
        "nbdf = nbdf.selectExpr(\"label as label\",\"features_SCALED as features\")\n",
        "nbdf.show(3)"
      ],
      "execution_count": 0,
      "outputs": [
        {
          "output_type": "stream",
          "text": [
            "+-----+--------------------+\n",
            "|label|            features|\n",
            "+-----+--------------------+\n",
            "|  0.0|[0.0,0.0,0.0,0.0,...|\n",
            "|  0.0|[0.0,1.0,0.0,0.0,...|\n",
            "|  0.0|[0.0,0.0,1.0,0.0,...|\n",
            "+-----+--------------------+\n",
            "only showing top 3 rows\n",
            "\n"
          ],
          "name": "stdout"
        }
      ]
    },
    {
      "cell_type": "code",
      "metadata": {
        "id": "FHcNgz4074Ap",
        "colab_type": "code",
        "colab": {}
      },
      "source": [
        "#SPLITTING THE LABEL AND FEATURES DATA AS TRAIN AND TEST DATA\n",
        "trainbn, testnb = nbdf.randomSplit([0.7, 0.3], seed = 742)"
      ],
      "execution_count": 0,
      "outputs": []
    },
    {
      "cell_type": "code",
      "metadata": {
        "id": "-jMjx0McTTWx",
        "colab_type": "code",
        "outputId": "47eef291-9692-483a-a209-dd27cc641840",
        "colab": {
          "base_uri": "https://localhost:8080/",
          "height": 315
        }
      },
      "source": [
        "#APPLYTING NAIVE BAYES AND FITTING INTO TEST AND TRAIN DATA\n",
        "#USING MULTINOMIAL METHOD BECAUSE BERNOULLI REQUIRES ONLY BINARY INPUT\n",
        "nb1=NaiveBayes(modelType=\"multinomial\")\n",
        "nbmodel=nb1.fit(trainbn)\n",
        "nb_predictions=nbmodel.transform(testnb)\n",
        "\n",
        "nb_evaluator=MulticlassClassificationEvaluator(labelCol=\"label\",predictionCol=\"prediction\",metricName=\"accuracy\")\n",
        "\n",
        "#EVALUATING PREDICTION AND PROBABILITY VALUES\n",
        "nb_accuracy=nb_evaluator.evaluate(nb_predictions)\n",
        "nb_predictions.select( 'label', 'rawPrediction', 'prediction', 'probability').show(10)\n",
        "\n",
        "\n",
        "print(\"Test Area Under ROC: \" + str(evaluator.evaluate(nb_predictions, {evaluator.metricName: \"areaUnderROC\"})))"
      ],
      "execution_count": 0,
      "outputs": [
        {
          "output_type": "stream",
          "text": [
            "+-----+--------------------+----------+--------------------+\n",
            "|label|       rawPrediction|prediction|         probability|\n",
            "+-----+--------------------+----------+--------------------+\n",
            "|  0.0|[-9.6008107488005...|       0.0|[0.84504135311665...|\n",
            "|  0.0|[-11.427952673484...|       0.0|[0.80665304676501...|\n",
            "|  0.0|[-14.679711452675...|       0.0|[0.70903283123877...|\n",
            "|  0.0|[-13.994168052050...|       0.0|[0.70022497296077...|\n",
            "|  0.0|[-14.966480685945...|       0.0|[0.69716901977295...|\n",
            "|  0.0|[-15.151005970029...|       0.0|[0.70958685126402...|\n",
            "|  0.0|[-14.744597017883...|       0.0|[0.87749325966276...|\n",
            "|  0.0|[-15.599029269868...|       0.0|[0.76260701635110...|\n",
            "|  0.0|[-16.470167775865...|       1.0|[0.43421396803255...|\n",
            "|  0.0|[-18.599435781766...|       1.0|[0.30836133714234...|\n",
            "+-----+--------------------+----------+--------------------+\n",
            "only showing top 10 rows\n",
            "\n",
            "Test Area Under ROC: 0.5859487734487734\n"
          ],
          "name": "stdout"
        }
      ]
    },
    {
      "cell_type": "code",
      "metadata": {
        "id": "uhFjcj_WdO_R",
        "colab_type": "code",
        "outputId": "3ded3303-a719-453e-ab64-66b52ed9dd09",
        "colab": {
          "base_uri": "https://localhost:8080/",
          "height": 35
        }
      },
      "source": [
        "#CALCULATING ACCURACY\n",
        "print(\"accuracy=%g\" %(nb_accuracy))"
      ],
      "execution_count": 0,
      "outputs": [
        {
          "output_type": "stream",
          "text": [
            "accuracy=0.744582\n"
          ],
          "name": "stdout"
        }
      ]
    },
    {
      "cell_type": "code",
      "metadata": {
        "id": "ELDVzNTBgr2v",
        "colab_type": "code",
        "outputId": "e4b84707-b1a3-4440-bdc0-1c01769d4414",
        "colab": {
          "base_uri": "https://localhost:8080/",
          "height": 53
        }
      },
      "source": [
        "#PRINTING CONFUSION MATRIX FOR NAIVE BAYES MODEL\n",
        "from pyspark.mllib.evaluation import MulticlassMetrics\n",
        "predandlabel=nb_predictions.select( 'label', 'prediction').rdd\n",
        "metrics2 = MulticlassMetrics(predandlabel)\n",
        "print(metrics2.confusionMatrix())"
      ],
      "execution_count": 0,
      "outputs": [
        {
          "output_type": "stream",
          "text": [
            "DenseMatrix([[396., 113.],\n",
            "             [ 52.,  85.]])\n"
          ],
          "name": "stdout"
        }
      ]
    },
    {
      "cell_type": "code",
      "metadata": {
        "id": "vHDBrb1ii1hy",
        "colab_type": "code",
        "outputId": "06cf9535-e51e-479f-a122-0a1f3e88dbb1",
        "colab": {
          "base_uri": "https://localhost:8080/",
          "height": 35
        }
      },
      "source": [
        "#CALCULATING PRECISION, RECALL AND F1SCORE\n",
        "cm2=metrics2.confusionMatrix().toArray()\n",
        "precision=(cm2[0][0])/(cm2[0][0]+cm2[1][0])\n",
        "recall=(cm2[0][0])/(cm2[0][0]+cm2[0][1])\n",
        "f1score =((2*precision*recall )/ (precision + recall))\n",
        "\n",
        "print(\"NAIVE BAYES:precision,recall,f1score\",precision,recall,f1score)"
      ],
      "execution_count": 0,
      "outputs": [
        {
          "output_type": "stream",
          "text": [
            "NAIVE BAYES:precision,recall,f1score 0.8839285714285714 0.7779960707269156 0.8275862068965517\n"
          ],
          "name": "stdout"
        }
      ]
    },
    {
      "cell_type": "code",
      "metadata": {
        "id": "QIn0rRtJwxab",
        "colab_type": "code",
        "outputId": "e3a11e9b-2857-4ef4-a316-f92c26a5e37c",
        "colab": {
          "base_uri": "https://localhost:8080/",
          "height": 292
        }
      },
      "source": [
        "#PLOTTING METRICS VALUE IN SEABORN\n",
        "import seaborn as sns\n",
        "sns.heatmap(cm2, annot=True)"
      ],
      "execution_count": 0,
      "outputs": [
        {
          "output_type": "execute_result",
          "data": {
            "text/plain": [
              "<matplotlib.axes._subplots.AxesSubplot at 0x7fbb47c40b70>"
            ]
          },
          "metadata": {
            "tags": []
          },
          "execution_count": 66
        },
        {
          "output_type": "display_data",
          "data": {
            "image/png": "[encoded data removed]",
            "text/plain": [
              "<Figure size 432x288 with 2 Axes>"
            ]
          },
          "metadata": {
            "tags": []
          }
        }
      ]
    }
  ]
}